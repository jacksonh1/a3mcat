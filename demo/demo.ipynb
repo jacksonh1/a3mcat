{
 "cells": [
  {
   "cell_type": "code",
   "execution_count": 1,
   "metadata": {},
   "outputs": [],
   "source": [
    "import a3mtools\n",
    "import a3mtools.examples as examples"
   ]
  },
  {
   "cell_type": "markdown",
   "metadata": {},
   "source": [
    "# import an a3m file"
   ]
  },
  {
   "cell_type": "code",
   "execution_count": 2,
   "metadata": {},
   "outputs": [
    {
     "name": "stdout",
     "output_type": "stream",
     "text": [
      "#9\t1\n",
      ">101\n",
      "ABCDEFGHI\n",
      ">ortho1\n",
      "xxABCDxxEFGZZ\n",
      ">ortho2\n",
      "A--DxxE-GHIxxxx\n",
      ">ortho3\n",
      "----xxEFGH-\n",
      "\n"
     ]
    }
   ],
   "source": [
    "msa = a3mtools.MSAa3m.from_a3m_file(examples.example_a3m_file1)\n",
    "print(msa)"
   ]
  },
  {
   "cell_type": "markdown",
   "metadata": {},
   "source": [
    "# slicing the alignment"
   ]
  },
  {
   "cell_type": "code",
   "execution_count": 3,
   "metadata": {},
   "outputs": [
    {
     "name": "stdout",
     "output_type": "stream",
     "text": [
      "#3\t1\n",
      ">101\n",
      "CDE\n",
      ">ortho1\n",
      "CDxxE\n",
      ">ortho2\n",
      "-DxxE\n",
      ">ortho3\n",
      "--xxE\n",
      "\n"
     ]
    }
   ],
   "source": [
    "print(msa[2:5])"
   ]
  },
  {
   "cell_type": "markdown",
   "metadata": {},
   "source": [
    "# concatenating alignments"
   ]
  },
  {
   "cell_type": "code",
   "execution_count": 4,
   "metadata": {},
   "outputs": [
    {
     "name": "stdout",
     "output_type": "stream",
     "text": [
      "#17\t1\n",
      ">101\n",
      "JKLMNOPQRSTUVW\n",
      ">ortho1\n",
      "JKLMNOPQRSTUVWxxxxxx\n",
      ">ortho2\n",
      "------PQRSTUVW\n",
      "\n"
     ]
    }
   ],
   "source": [
    "msa2 = a3mtools.MSAa3m.from_a3m_file(examples.example_a3m_file2)\n",
    "print(msa2)"
   ]
  },
  {
   "cell_type": "code",
   "execution_count": 5,
   "metadata": {},
   "outputs": [
    {
     "name": "stdout",
     "output_type": "stream",
     "text": [
      "#9,17\t1,1\n",
      ">101\t102\n",
      "ABCDEFGHIJKLMNOPQRSTUVW\n",
      ">101\n",
      "ABCDEFGHI--------------\n",
      ">ortho1\n",
      "xxABCDxxEFGZZ--------------\n",
      ">ortho2\n",
      "A--DxxE-GHIxxxx--------------\n",
      ">ortho3\n",
      "----xxEFGH---------------\n",
      ">102\n",
      "---------JKLMNOPQRSTUVW\n",
      ">ortho1\n",
      "---------JKLMNOPQRSTUVWxxxxxx\n",
      ">ortho2\n",
      "---------------PQRSTUVW\n",
      "\n"
     ]
    }
   ],
   "source": [
    "print(msa + msa2)"
   ]
  },
  {
   "cell_type": "code",
   "execution_count": 6,
   "metadata": {},
   "outputs": [
    {
     "name": "stdout",
     "output_type": "stream",
     "text": [
      "#9,3,4\t1,1,1\n",
      ">101\t102\t103\n",
      "ABCDEFGHILMNFGHI\n",
      ">101\n",
      "ABCDEFGHI-------\n",
      ">ortho1\n",
      "xxABCDxxEFGZZ-------\n",
      ">ortho2\n",
      "A--DxxE-GHIxxxx-------\n",
      ">ortho3\n",
      "----xxEFGH--------\n",
      ">102\n",
      "---------LMN----\n",
      ">ortho1\n",
      "---------LMN----\n",
      ">103\n",
      "------------FGHI\n",
      ">ortho1\n",
      "------------FGZZ\n",
      ">ortho2\n",
      "-------------GHI\n",
      ">ortho3\n",
      "------------FGH-\n",
      "\n"
     ]
    }
   ],
   "source": [
    "print(msa + msa2[2:5] + msa[5:])"
   ]
  },
  {
   "cell_type": "markdown",
   "metadata": {},
   "source": [
    "# saving the alignment to a file"
   ]
  },
  {
   "cell_type": "code",
   "execution_count": 7,
   "metadata": {},
   "outputs": [],
   "source": [
    "complex_msa = msa + msa2\n",
    "complex_msa.save(\"example_complex.a3m\")"
   ]
  },
  {
   "cell_type": "code",
   "execution_count": 11,
   "metadata": {},
   "outputs": [
    {
     "data": {
      "text/plain": [
       "'101\\t102'"
      ]
     },
     "execution_count": 11,
     "metadata": {},
     "output_type": "execute_result"
    }
   ],
   "source": [
    "complex_msa.query.header"
   ]
  }
 ],
 "metadata": {
  "kernelspec": {
   "display_name": "a3mtools",
   "language": "python",
   "name": "python3"
  },
  "language_info": {
   "codemirror_mode": {
    "name": "ipython",
    "version": 3
   },
   "file_extension": ".py",
   "mimetype": "text/x-python",
   "name": "python",
   "nbconvert_exporter": "python",
   "pygments_lexer": "ipython3",
   "version": "3.12.8"
  }
 },
 "nbformat": 4,
 "nbformat_minor": 2
}
