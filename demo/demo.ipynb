{
 "cells": [
  {
   "cell_type": "code",
   "execution_count": 1,
   "metadata": {},
   "outputs": [],
   "source": [
    "import a3mtools\n",
    "import a3mtools.examples as examples\n",
    "%load_ext autoreload\n",
    "%autoreload 2   "
   ]
  },
  {
   "cell_type": "markdown",
   "metadata": {},
   "source": [
    "# import an a3m file"
   ]
  },
  {
   "cell_type": "code",
   "execution_count": 2,
   "metadata": {},
   "outputs": [
    {
     "name": "stdout",
     "output_type": "stream",
     "text": [
      "#9\t1\n",
      ">101\n",
      "ABCDEFGHI\n",
      ">ortho1\n",
      "xxABCDxxEFGZZ\n",
      ">ortho2\n",
      "A--DxxE-GHIxxxx\n",
      ">ortho3\n",
      "----xxEFGH-\n",
      "\n"
     ]
    }
   ],
   "source": [
    "msa = a3mtools.MSAa3m.from_a3m_file(examples.a3m_file1)\n",
    "print(msa)"
   ]
  },
  {
   "cell_type": "markdown",
   "metadata": {},
   "source": [
    "# slicing the alignment"
   ]
  },
  {
   "cell_type": "code",
   "execution_count": 4,
   "metadata": {},
   "outputs": [
    {
     "name": "stdout",
     "output_type": "stream",
     "text": [
      "#3\t1\n",
      ">101\n",
      "CDE\n",
      ">ortho1\n",
      "CDxxE\n",
      ">ortho2\n",
      "-DxxE\n",
      ">ortho3\n",
      "--xxE\n",
      "\n"
     ]
    }
   ],
   "source": [
    "print(msa[2:5])"
   ]
  },
  {
   "cell_type": "markdown",
   "metadata": {},
   "source": [
    "# concatenating alignments"
   ]
  },
  {
   "cell_type": "code",
   "execution_count": 5,
   "metadata": {},
   "outputs": [
    {
     "name": "stdout",
     "output_type": "stream",
     "text": [
      "#17\t1\n",
      ">101\n",
      "JKLMNOPQRSTUVW\n",
      ">ortho1\n",
      "JKLMNOPQRSTUVWxxxxxx\n",
      ">ortho2\n",
      "------PQRSTUVW\n",
      "\n"
     ]
    }
   ],
   "source": [
    "msa2 = a3mtools.MSAa3m.from_a3m_file(examples.a3m_file2)\n",
    "print(msa2)"
   ]
  },
  {
   "cell_type": "code",
   "execution_count": 6,
   "metadata": {},
   "outputs": [
    {
     "name": "stdout",
     "output_type": "stream",
     "text": [
      "#9,17\t1,1\n",
      ">101\t102\n",
      "ABCDEFGHIJKLMNOPQRSTUVW\n",
      ">101\n",
      "ABCDEFGHI--------------\n",
      ">ortho1\n",
      "xxABCDxxEFGZZ--------------\n",
      ">ortho2\n",
      "A--DxxE-GHIxxxx--------------\n",
      ">ortho3\n",
      "----xxEFGH---------------\n",
      ">102\n",
      "---------JKLMNOPQRSTUVW\n",
      ">ortho1\n",
      "---------JKLMNOPQRSTUVWxxxxxx\n",
      ">ortho2\n",
      "---------------PQRSTUVW\n",
      "\n"
     ]
    }
   ],
   "source": [
    "print(msa + msa2)"
   ]
  },
  {
   "cell_type": "code",
   "execution_count": 7,
   "metadata": {},
   "outputs": [
    {
     "name": "stdout",
     "output_type": "stream",
     "text": [
      "#9,3,4\t1,1,1\n",
      ">101\t102\t103\n",
      "ABCDEFGHILMNFGHI\n",
      ">101\n",
      "ABCDEFGHI-------\n",
      ">ortho1\n",
      "xxABCDxxEFGZZ-------\n",
      ">ortho2\n",
      "A--DxxE-GHIxxxx-------\n",
      ">ortho3\n",
      "----xxEFGH--------\n",
      ">102\n",
      "---------LMN----\n",
      ">ortho1\n",
      "---------LMN----\n",
      ">103\n",
      "------------FGHI\n",
      ">ortho1\n",
      "------------FGZZ\n",
      ">ortho2\n",
      "-------------GHI\n",
      ">ortho3\n",
      "------------FGH-\n",
      "\n"
     ]
    }
   ],
   "source": [
    "print(msa + msa2[2:5] + msa[5:])"
   ]
  },
  {
   "cell_type": "markdown",
   "metadata": {},
   "source": [
    "# saving the alignment to a file"
   ]
  },
  {
   "cell_type": "code",
   "execution_count": 8,
   "metadata": {},
   "outputs": [],
   "source": [
    "complex_msa = msa + msa2\n",
    "complex_msa.save(\"example_complex.a3m\")"
   ]
  },
  {
   "cell_type": "code",
   "execution_count": 9,
   "metadata": {},
   "outputs": [
    {
     "data": {
      "text/plain": [
       "'101\\t102'"
      ]
     },
     "execution_count": 9,
     "metadata": {},
     "output_type": "execute_result"
    }
   ],
   "source": [
    "complex_msa.query.header"
   ]
  },
  {
   "cell_type": "markdown",
   "metadata": {},
   "source": [
    "# importing a fasta file"
   ]
  },
  {
   "cell_type": "code",
   "execution_count": 21,
   "metadata": {},
   "outputs": [
    {
     "data": {
      "text/plain": [
       "a3mtools.backend.sequence_utils.ProteinSequence"
      ]
     },
     "execution_count": 21,
     "metadata": {},
     "output_type": "execute_result"
    }
   ],
   "source": [
    "x = a3mtools.import_fasta(a3mtools.examples.fasta_file1)\n",
    "type(x[0])"
   ]
  },
  {
   "cell_type": "code",
   "execution_count": 18,
   "metadata": {},
   "outputs": [
    {
     "data": {
      "text/plain": [
       "[15, 15, 15]"
      ]
     },
     "execution_count": 18,
     "metadata": {},
     "output_type": "execute_result"
    }
   ],
   "source": [
    "[len(i) for i in x]"
   ]
  },
  {
   "cell_type": "code",
   "execution_count": 47,
   "metadata": {},
   "outputs": [
    {
     "name": "stdout",
     "output_type": "stream",
     "text": [
      ">q\n",
      "LVT---FLAGCQ---\n",
      ">a\n",
      "LVTTTTFL--CQQQQ\n",
      ">b\n",
      "LVTTTTFLAGCQQQQ\n",
      ">c\n",
      "LVT---FLAGCQQQQ\n"
     ]
    }
   ],
   "source": [
    "famsa = a3mtools.MSAfasta.from_fasta_file(a3mtools.examples.fasta_file1)\n",
    "print(famsa)"
   ]
  },
  {
   "cell_type": "code",
   "execution_count": 48,
   "metadata": {},
   "outputs": [
    {
     "name": "stdout",
     "output_type": "stream",
     "text": [
      "LVT---FLAGCQ---\n",
      "LVTTTTFL--CQQQQ\n",
      "LVTTTTFLAGCQQQQ\n",
      "LVT---FLAGCQQQQ\n"
     ]
    }
   ],
   "source": [
    "famsa.print_MSA()"
   ]
  },
  {
   "cell_type": "markdown",
   "metadata": {},
   "source": [
    "```\n",
    "LVT---FLAGCQ---\n",
    "LVTTTTFL--CQQQQ\n",
    "LVTTTTFLAGCQQQQ\n",
    "LVT---FLAGCQQQQ\n",
    "```\n",
    "should convert to\n",
    "```\n",
    "LVTFLAGCQ\n",
    "LVTtttFL--CQqqq\n",
    "LVTtttFLAGCQqqq\n",
    "LVTFLAGCQQQQ\n",
    "```"
   ]
  },
  {
   "cell_type": "code",
   "execution_count": 49,
   "metadata": {},
   "outputs": [],
   "source": [
    "import a3mtools.backend.sequence_utils as utils\n",
    "from a3mtools import ProteinSequence"
   ]
  },
  {
   "cell_type": "code",
   "execution_count": 53,
   "metadata": {},
   "outputs": [
    {
     "data": {
      "text/plain": [
       "#9\t1\n",
       ">q\n",
       "LVTFLAGCQ\n",
       ">a\n",
       "LVTtttFL--CQqqq\n",
       ">b\n",
       "LVTtttFLAGCQqqq\n",
       ">c\n",
       "LVTFLAGCQqqq"
      ]
     },
     "execution_count": 53,
     "metadata": {},
     "output_type": "execute_result"
    }
   ],
   "source": [
    "query_id = 'q'\n",
    "aligned_query = famsa.to_dict()[query_id]\n",
    "unaligned_query, inds = utils.reindex_alignment_str(aligned_query.seq_str)\n",
    "query = ProteinSequence(query_id, unaligned_query)\n",
    "new_seqs = []\n",
    "for pseq in famsa.sequences:\n",
    "    if pseq.header == query_id:\n",
    "        continue\n",
    "    new_seq_str = ''\n",
    "    for c in range(len(pseq.seq_str)):\n",
    "        if c in inds:\n",
    "            new_seq_str += pseq.seq_str[c]\n",
    "        else:\n",
    "            if pseq.seq_str[c] != '-':\n",
    "                new_seq_str += pseq.seq_str[c].lower()\n",
    "            # else:\n",
    "            #     new_seq_str += '-'\n",
    "    new_seqs.append(ProteinSequence(pseq.header, new_seq_str))\n",
    "info_line = f'#{len(query.seq_str)}\\t1'\n",
    "a3mtools.MSAa3m(info_line, query, new_seqs)"
   ]
  },
  {
   "cell_type": "code",
   "execution_count": 34,
   "metadata": {},
   "outputs": [
    {
     "name": "stdout",
     "output_type": "stream",
     "text": [
      "4591888496\n",
      "4593046064\n"
     ]
    }
   ],
   "source": [
    "print(id(famsa.sequences[0].seq_str))\n",
    "print(id(famsa[2:5].sequences[0].seq_str))"
   ]
  },
  {
   "cell_type": "code",
   "execution_count": null,
   "metadata": {},
   "outputs": [],
   "source": []
  },
  {
   "cell_type": "code",
   "execution_count": null,
   "metadata": {},
   "outputs": [],
   "source": []
  },
  {
   "cell_type": "code",
   "execution_count": null,
   "metadata": {},
   "outputs": [],
   "source": []
  },
  {
   "cell_type": "code",
   "execution_count": null,
   "metadata": {},
   "outputs": [],
   "source": []
  }
 ],
 "metadata": {
  "kernelspec": {
   "display_name": "a3mtools",
   "language": "python",
   "name": "python3"
  },
  "language_info": {
   "codemirror_mode": {
    "name": "ipython",
    "version": 3
   },
   "file_extension": ".py",
   "mimetype": "text/x-python",
   "name": "python",
   "nbconvert_exporter": "python",
   "pygments_lexer": "ipython3",
   "version": "3.12.8"
  }
 },
 "nbformat": 4,
 "nbformat_minor": 2
}
